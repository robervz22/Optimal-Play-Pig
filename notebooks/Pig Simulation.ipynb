{
 "cells": [
  {
   "cell_type": "code",
   "execution_count": 389,
   "id": "0ded0791-fc1a-4fe9-b1a4-2282a8533159",
   "metadata": {},
   "outputs": [],
   "source": [
    "# Import packages needed to run code\n",
    "import sys\n",
    "import importlib\n",
    "import plotly\n",
    "import random\n",
    "from statistics import mean, stdev\n",
    "\n",
    "sys.path.append('../source') # module path\n",
    "import pig\n",
    "import visualisation\n",
    "importlib.reload(pig) # avoid restarting kernel in each module modification\n",
    "importlib.reload(visualisation)\n",
    "\n",
    "# Import specific class and functions\n",
    "from pig import Pig\n",
    "from visualisation import plot_pig_policy, plot_reachable_states"
   ]
  },
  {
   "cell_type": "markdown",
   "id": "b632a303-d452-4b58-bbb9-51df76e70ee6",
   "metadata": {},
   "source": [
    "Find optimal policy using value iteration"
   ]
  },
  {
   "cell_type": "code",
   "execution_count": 2,
   "id": "f8069be0-b056-4c7d-8509-d0db714a3683",
   "metadata": {},
   "outputs": [],
   "source": [
    "result_pig = Pig(T=100)\n",
    "result_pig.value_iteration(tol=1e-6)"
   ]
  },
  {
   "cell_type": "markdown",
   "id": "5ebc2396-fc15-4347-9010-1943916e376e",
   "metadata": {},
   "source": [
    "Define hold at twenty and optimal policy functions"
   ]
  },
  {
   "cell_type": "code",
   "execution_count": 376,
   "id": "2ecd2942-604a-490c-822c-d408eef90ef6",
   "metadata": {},
   "outputs": [],
   "source": [
    "def hold_at_twenty(i, j, k):\n",
    "    if k < 20:\n",
    "        return 'roll'\n",
    "    else:\n",
    "        return 'hold'"
   ]
  },
  {
   "cell_type": "code",
   "execution_count": 308,
   "id": "b4881293-6a6a-429d-93e8-54a1e2c0181f",
   "metadata": {},
   "outputs": [],
   "source": [
    "def optimal_policy(i, j, k):\n",
    "        return result_pig.policy[i, j, k]"
   ]
  },
  {
   "cell_type": "markdown",
   "id": "e36d21ad-a235-4367-8738-7f707bd79f29",
   "metadata": {},
   "source": [
    "Pig game and tournament functions. Tournament is for comparing the optimal policy with itself and the hold at twenty policy, varying which policy goes first. This is done by simulating $n$ games for optimal vs optimal, optimal vs hold at twenty where optimal goes first, and optimal vs hold at twenty where hold at twenty goes first. The proportion of times that the strategy goes first wins is then calculated, and used to estimate the probability that it wins."
   ]
  },
  {
   "cell_type": "code",
   "execution_count": 346,
   "id": "0e34f477-692c-4065-a3d1-637ae7aac0d2",
   "metadata": {},
   "outputs": [],
   "source": [
    "def game(strats):\n",
    "    scores = [0, 0]\n",
    "    while max(scores) < 100:\n",
    "        for i in range(2):\n",
    "            round_score = 0\n",
    "            roll = 0\n",
    "            policy = strats[i]\n",
    "            while policy(scores[i], scores[1-i], round_score) == 'roll' and roll != 1:\n",
    "                roll = random.sample([1,2,3,4,5,6], 1)[0]\n",
    "                round_score = (roll !=  1) * (round_score + roll)\n",
    "                if scores[i] + round_score >= 100 and roll != 1:\n",
    "                    return i\n",
    "            scores[i] = scores[i] + round_score"
   ]
  },
  {
   "cell_type": "code",
   "execution_count": 377,
   "id": "c60059ee-7c6b-49a7-9a87-e2a1cbd8a2e2",
   "metadata": {},
   "outputs": [],
   "source": [
    "def tournament(n):\n",
    "    opt_v_opt = [1-game([optimal_policy, optimal_policy]) for i in range(n)]\n",
    "    opt_v_hold = [1-game([optimal_policy, hold_at_twenty]) for i in range(n)]\n",
    "    hold_v_opt = [1-game([hold_at_twenty, optimal_policy]) for i in range(n)]\n",
    "    return([mean(opt_v_opt), mean(opt_v_hold), mean(hold_v_opt)])"
   ]
  },
  {
   "cell_type": "markdown",
   "id": "7bf8d33a-be46-4ac4-93a6-e6fc422c28de",
   "metadata": {},
   "source": [
    "Simulate 10000 games in each scenario and get point estimates of probabilities. The report gives $[0.5306, 0.5874, 0.4776]$ for the probabilities of optimal winning against optimal if it goes first, optimal winning against hold at twenty if it goes first, and hold at twenty winning against optimal if it goes first respectively."
   ]
  },
  {
   "cell_type": "code",
   "execution_count": 383,
   "id": "8264bc79-5410-4596-bb7e-2d936023d46b",
   "metadata": {},
   "outputs": [],
   "source": [
    "PI_simulation = tournament(10000)"
   ]
  },
  {
   "cell_type": "code",
   "execution_count": 384,
   "id": "24f9d976-e2ae-4d78-b917-25b80701f077",
   "metadata": {},
   "outputs": [
    {
     "data": {
      "text/plain": [
       "[0.5302, 0.5665, 0.4943]"
      ]
     },
     "execution_count": 384,
     "metadata": {},
     "output_type": "execute_result"
    }
   ],
   "source": [
    "PI_simulation"
   ]
  },
  {
   "cell_type": "markdown",
   "id": "6ce63a8f-82c9-458a-968b-2f78eef1ce7a",
   "metadata": {},
   "source": [
    "So the point estimate for optimal vs optimal matches that in the paper, while the point estimates for the optimal policy beating the hold at twenty policy is slightly too high regardless of which policy goes first compared to the results from the paper. The method used in the paper is unclear, as simulation is not mentioned and they describe doing 'the same technique' as before. Explore this further by calculating 95% confidence intervals for each probability. Calculate point intervals based on $1000$ games $100$ times to calculate confidence intervals."
   ]
  },
  {
   "cell_type": "code",
   "execution_count": 385,
   "id": "ac0a630f-43cc-46f5-b6fa-f82ae694f388",
   "metadata": {},
   "outputs": [],
   "source": [
    "N = 100\n",
    "CI_simulation = [tournament(1000) for i in range(100)]"
   ]
  },
  {
   "cell_type": "code",
   "execution_count": 388,
   "id": "a0d3704e-424e-461b-8e75-dc1d88304c28",
   "metadata": {},
   "outputs": [],
   "source": [
    "z = 1.96\n",
    "means = [mean([CI_simulation[i][j] for i in range(N)]) for j in range(3)]\n",
    "sds = [stdev([CI_simulation[i][j] for i in range(N)]) for j in range(3)]\n",
    "CIs = [[means[i]+u*z*sds[i]/N**(1/2) for u in [-1, 1]] for i in range(3)]"
   ]
  },
  {
   "cell_type": "code",
   "execution_count": 387,
   "id": "a88fe998-22f4-4b52-b462-97c7b33a5b2d",
   "metadata": {},
   "outputs": [
    {
     "data": {
      "text/plain": [
       "[[0.5292358523338704, 0.5347041476661297],\n",
       " [0.5785143529153822, 0.5846056470846177],\n",
       " [0.47507128551777505, 0.48154871448222497]]"
      ]
     },
     "execution_count": 387,
     "metadata": {},
     "output_type": "execute_result"
    }
   ],
   "source": [
    "CIs"
   ]
  },
  {
   "cell_type": "markdown",
   "id": "5e55ff87-9247-4f0f-8b5e-de339be1436f",
   "metadata": {},
   "source": [
    "So the probability for optimal vs optimal in the paper falls into this interval, and the other two probabilities from the paper don't."
   ]
  }
 ],
 "metadata": {
  "kernelspec": {
   "display_name": "Python 3 (ipykernel)",
   "language": "python",
   "name": "python3"
  },
  "language_info": {
   "codemirror_mode": {
    "name": "ipython",
    "version": 3
   },
   "file_extension": ".py",
   "mimetype": "text/x-python",
   "name": "python",
   "nbconvert_exporter": "python",
   "pygments_lexer": "ipython3",
   "version": "3.12.0"
  }
 },
 "nbformat": 4,
 "nbformat_minor": 5
}
