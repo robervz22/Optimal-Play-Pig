{
 "cells": [
  {
   "cell_type": "markdown",
   "id": "58023f19",
   "metadata": {},
   "source": [
    "# Piglet"
   ]
  },
  {
   "cell_type": "markdown",
   "id": "09e9956d",
   "metadata": {},
   "source": [
    "This notebook has the intention to reproduce the results regarding the **Piglet** section in the paper [*Optimal Play of the Dice Game Pig*](https://cupola.gettysburg.edu/csfac/4/).\n",
    "\n",
    "We are going use the  *value iteration*  algorithm suggested in the article. In order to ensure reproducibility in particular we replicate the idea implemented in `PigletSolver.java` shared by the authors. \n",
    "\n",
    "Our implementation for a general target `T` is in the `Piglet` class. The code is the Python module `piglet.py` in the `source` directory."
   ]
  },
  {
   "cell_type": "code",
   "execution_count": 1,
   "id": "a266075d",
   "metadata": {},
   "outputs": [],
   "source": [
    "import sys\n",
    "sys.path.append('../source')\n",
    "import piglet\n",
    "from piglet import Piglet"
   ]
  },
  {
   "cell_type": "markdown",
   "id": "70013088",
   "metadata": {},
   "source": [
    "We obtain the optimal value functions for target $T=2$. "
   ]
  },
  {
   "cell_type": "code",
   "execution_count": 2,
   "id": "13a3f5be",
   "metadata": {},
   "outputs": [
    {
     "name": "stdout",
     "output_type": "stream",
     "text": [
      "Optimal Policy:\n",
      "(1, 1, 0): flip\n",
      "(0, 1, 0): flip\n",
      "(0, 0, 0): flip\n",
      "(1, 0, 0): flip\n",
      "(0, 0, 1): flip\n",
      "(0, 1, 1): flip\n",
      "\n",
      "\n",
      "Optimal Values:\n",
      "(1, 1, 0): 0.666666666045785\n",
      "(0, 1, 0): 0.40000169910490513\n",
      "(0, 0, 0): 0.5714285708963871\n",
      "(1, 0, 0): 0.7999987173825502\n",
      "(0, 0, 1): 0.7142857145518064\n",
      "(0, 1, 1): 0.6000009682029486\n"
     ]
    }
   ],
   "source": [
    "result_piglet = Piglet(T=2)\n",
    "result_piglet.value_iteration()\n",
    "result_piglet.print_policy()\n",
    "print(\"\\n\")\n",
    "result_piglet.print_value()"
   ]
  },
  {
   "cell_type": "markdown",
   "id": "2a50d95e",
   "metadata": {},
   "source": [
    "Finally, we reproduce the *Figure 2* with target $T=2$ in the paper. "
   ]
  }
 ],
 "metadata": {
  "kernelspec": {
   "display_name": "base",
   "language": "python",
   "name": "python3"
  },
  "language_info": {
   "codemirror_mode": {
    "name": "ipython",
    "version": 3
   },
   "file_extension": ".py",
   "mimetype": "text/x-python",
   "name": "python",
   "nbconvert_exporter": "python",
   "pygments_lexer": "ipython3",
   "version": "3.11.4"
  }
 },
 "nbformat": 4,
 "nbformat_minor": 5
}
