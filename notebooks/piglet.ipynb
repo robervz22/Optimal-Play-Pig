{
 "cells": [
  {
   "cell_type": "markdown",
   "id": "58023f19",
   "metadata": {},
   "source": [
    "# Piglet"
   ]
  },
  {
   "cell_type": "markdown",
   "id": "09e9956d",
   "metadata": {},
   "source": [
    "This notebook has the intention to reproduce the results regarding the **Piglet** section in the paper [*Optimal Play of the Dice Game Pig*](https://cupola.gettysburg.edu/csfac/4/).\n",
    "\n",
    "We are going use the  *value iteration*  algorithm suggested in the article. In order to ensure reproducibility in particular we replicate the idea implemented in `PigletSolver.java` shared by the authors. \n",
    "\n",
    "Our implementation for a general target `T` is in the `Piglet` class. The code is the Python module `piglet.py` in the `source` directory."
   ]
  },
  {
   "cell_type": "code",
   "execution_count": 1,
   "id": "a266075d",
   "metadata": {},
   "outputs": [],
   "source": [
    "import sys\n",
    "import importlib    \n",
    "\n",
    "sys.path.append('../source') # module path\n",
    "import piglet\n",
    "import visualisation\n",
    "importlib.reload(piglet) # avoid restarting kernel in each module modification\n",
    "importlib.reload(visualisation) \n",
    "\n",
    "# Import specific class and functions\n",
    "from piglet import Piglet\n",
    "from visualisation import plot_piglet_convergence"
   ]
  },
  {
   "cell_type": "markdown",
   "id": "70013088",
   "metadata": {},
   "source": [
    "We obtain the optimal value function and the correponding optimal policy for target $T=2$. "
   ]
  },
  {
   "cell_type": "code",
   "execution_count": 2,
   "id": "13a3f5be",
   "metadata": {},
   "outputs": [
    {
     "name": "stdout",
     "output_type": "stream",
     "text": [
      "Optimal Policy:\n",
      "(1, 1, 0): flip\n",
      "(1, 0, 0): flip\n",
      "(0, 1, 1): flip\n",
      "(0, 1, 0): flip\n",
      "(0, 0, 1): flip\n",
      "(0, 0, 0): flip\n",
      "\n",
      "\n",
      "Optimal Values:\n",
      "(1, 1, 0): 0.666666666045785\n",
      "(1, 0, 0): 0.7999987173825502\n",
      "(0, 1, 1): 0.6000009682029486\n",
      "(0, 1, 0): 0.40000169910490513\n",
      "(0, 0, 1): 0.7142857145518064\n",
      "(0, 0, 0): 0.5714285708963871\n"
     ]
    }
   ],
   "source": [
    "result_piglet = Piglet(T=2)\n",
    "result_piglet.value_iteration()\n",
    "result_piglet.print_policy()\n",
    "print(\"\\n\")\n",
    "result_piglet.print_value()"
   ]
  },
  {
   "cell_type": "markdown",
   "id": "d526c260",
   "metadata": {},
   "source": [
    "This results agree with the theoretical ones shown in the paper for this case."
   ]
  },
  {
   "cell_type": "markdown",
   "id": "e37faa94",
   "metadata": {},
   "source": [
    "Finally, we reproduce the graph showing the convenrgence to these optimal values. "
   ]
  },
  {
   "cell_type": "code",
   "execution_count": 3,
   "id": "07c022e1",
   "metadata": {},
   "outputs": [
    {
     "data": {
      "application/vnd.plotly.v1+json": {
       "config": {
        "plotlyServerURL": "https://plot.ly"
       },
       "data": [
        {
         "mode": "lines",
         "name": "(1, 1, 0)",
         "type": "scatter",
         "x": [
          0,
          1,
          2,
          3,
          4,
          5,
          6,
          7,
          8,
          9,
          10,
          11,
          12,
          13,
          14,
          15,
          16,
          17,
          18,
          19,
          20,
          21,
          22,
          23,
          24,
          25,
          26,
          27,
          28,
          29,
          30
         ],
         "y": [
          0,
          1,
          0.5,
          0.75,
          0.625,
          0.6875,
          0.65625,
          0.671875,
          0.6640625,
          0.66796875,
          0.666015625,
          0.6669921875,
          0.66650390625,
          0.666748046875,
          0.6666259765625,
          0.66668701171875,
          0.666656494140625,
          0.6666717529296875,
          0.6666641235351562,
          0.6666679382324219,
          0.6666660308837891,
          0.6666669845581055,
          0.6666665077209473,
          0.6666667461395264,
          0.6666666269302368,
          0.6666666865348816,
          0.6666666567325592,
          0.6666666716337204,
          0.6666666641831398,
          0.6666666679084301,
          0.666666666045785
         ]
        },
        {
         "mode": "lines",
         "name": "(1, 0, 0)",
         "type": "scatter",
         "x": [
          0,
          1,
          2,
          3,
          4,
          5,
          6,
          7,
          8,
          9,
          10,
          11,
          12,
          13,
          14,
          15,
          16,
          17,
          18,
          19,
          20,
          21,
          22,
          23,
          24,
          25,
          26,
          27,
          28,
          29,
          30
         ],
         "y": [
          0,
          1,
          0.5,
          0.75,
          0.75,
          0.75,
          0.78125,
          0.78125,
          0.7890625,
          0.79296875,
          0.794921875,
          0.796875,
          0.7978515625,
          0.798583984375,
          0.799072265625,
          0.79937744140625,
          0.799591064453125,
          0.7997283935546875,
          0.7998199462890625,
          0.7998809814453125,
          0.7999210357666016,
          0.7999477386474609,
          0.7999653816223145,
          0.7999770641326904,
          0.7999848127365112,
          0.7999899387359619,
          0.7999933362007141,
          0.7999955862760544,
          0.7999970763921738,
          0.7999980635941029,
          0.7999987173825502
         ]
        },
        {
         "mode": "lines",
         "name": "(0, 1, 1)",
         "type": "scatter",
         "x": [
          0,
          1,
          2,
          3,
          4,
          5,
          6,
          7,
          8,
          9,
          10,
          11,
          12,
          13,
          14,
          15,
          16,
          17,
          18,
          19,
          20,
          21,
          22,
          23,
          24,
          25,
          26,
          27,
          28,
          29,
          30
         ],
         "y": [
          0,
          1,
          0.5,
          0.75,
          0.625,
          0.625,
          0.625,
          0.609375,
          0.609375,
          0.60546875,
          0.603515625,
          0.6025390625,
          0.6015625,
          0.60107421875,
          0.6007080078125,
          0.6004638671875,
          0.600311279296875,
          0.6002044677734375,
          0.6001358032226562,
          0.6000900268554688,
          0.6000595092773438,
          0.6000394821166992,
          0.6000261306762695,
          0.6000173091888428,
          0.6000114679336548,
          0.6000075936317444,
          0.600005030632019,
          0.6000033318996429,
          0.6000022068619728,
          0.6000014618039131,
          0.6000009682029486
         ]
        },
        {
         "mode": "lines",
         "name": "(0, 1, 0)",
         "type": "scatter",
         "x": [
          0,
          1,
          2,
          3,
          4,
          5,
          6,
          7,
          8,
          9,
          10,
          11,
          12,
          13,
          14,
          15,
          16,
          17,
          18,
          19,
          20,
          21,
          22,
          23,
          24,
          25,
          26,
          27,
          28,
          29,
          30
         ],
         "y": [
          0,
          1,
          0.5,
          0.5,
          0.5,
          0.4375,
          0.4375,
          0.421875,
          0.4140625,
          0.41015625,
          0.40625,
          0.404296875,
          0.40283203125,
          0.40185546875,
          0.4012451171875,
          0.40081787109375,
          0.400543212890625,
          0.400360107421875,
          0.400238037109375,
          0.4001579284667969,
          0.4001045227050781,
          0.4000692367553711,
          0.40004587173461914,
          0.40003037452697754,
          0.40002012252807617,
          0.4000133275985718,
          0.40000882744789124,
          0.40000584721565247,
          0.4000038728117943,
          0.4000025652348995,
          0.40000169910490513
         ]
        },
        {
         "mode": "lines",
         "name": "(0, 0, 1)",
         "type": "scatter",
         "x": [
          0,
          1,
          2,
          3,
          4,
          5,
          6,
          7,
          8,
          9,
          10,
          11,
          12,
          13,
          14,
          15,
          16,
          17,
          18,
          19,
          20,
          21,
          22,
          23,
          24,
          25,
          26,
          27,
          28,
          29,
          30
         ],
         "y": [
          0,
          1,
          0.5,
          0.75,
          0.75,
          0.6875,
          0.71875,
          0.71875,
          0.7109375,
          0.71484375,
          0.71484375,
          0.7138671875,
          0.71435546875,
          0.71435546875,
          0.7142333984375,
          0.71429443359375,
          0.71429443359375,
          0.7142791748046875,
          0.7142868041992188,
          0.7142868041992188,
          0.7142848968505859,
          0.7142858505249023,
          0.7142858505249023,
          0.7142856121063232,
          0.7142857313156128,
          0.7142857313156128,
          0.7142857015132904,
          0.7142857164144516,
          0.7142857164144516,
          0.7142857126891613,
          0.7142857145518064
         ]
        },
        {
         "mode": "lines",
         "name": "(0, 0, 0)",
         "type": "scatter",
         "x": [
          0,
          1,
          2,
          3,
          4,
          5,
          6,
          7,
          8,
          9,
          10,
          11,
          12,
          13,
          14,
          15,
          16,
          17,
          18,
          19,
          20,
          21,
          22,
          23,
          24,
          25,
          26,
          27,
          28,
          29,
          30
         ],
         "y": [
          0,
          1,
          0.5,
          0.5,
          0.625,
          0.5625,
          0.5625,
          0.578125,
          0.5703125,
          0.5703125,
          0.572265625,
          0.5712890625,
          0.5712890625,
          0.571533203125,
          0.5714111328125,
          0.5714111328125,
          0.571441650390625,
          0.5714263916015625,
          0.5714263916015625,
          0.5714302062988281,
          0.5714282989501953,
          0.5714282989501953,
          0.5714287757873535,
          0.5714285373687744,
          0.5714285373687744,
          0.5714285969734192,
          0.5714285671710968,
          0.5714285671710968,
          0.5714285746216774,
          0.5714285708963871,
          0.5714285708963871
         ]
        }
       ],
       "layout": {
        "template": {
         "data": {
          "bar": [
           {
            "error_x": {
             "color": "#2a3f5f"
            },
            "error_y": {
             "color": "#2a3f5f"
            },
            "marker": {
             "line": {
              "color": "white",
              "width": 0.5
             },
             "pattern": {
              "fillmode": "overlay",
              "size": 10,
              "solidity": 0.2
             }
            },
            "type": "bar"
           }
          ],
          "barpolar": [
           {
            "marker": {
             "line": {
              "color": "white",
              "width": 0.5
             },
             "pattern": {
              "fillmode": "overlay",
              "size": 10,
              "solidity": 0.2
             }
            },
            "type": "barpolar"
           }
          ],
          "carpet": [
           {
            "aaxis": {
             "endlinecolor": "#2a3f5f",
             "gridcolor": "#C8D4E3",
             "linecolor": "#C8D4E3",
             "minorgridcolor": "#C8D4E3",
             "startlinecolor": "#2a3f5f"
            },
            "baxis": {
             "endlinecolor": "#2a3f5f",
             "gridcolor": "#C8D4E3",
             "linecolor": "#C8D4E3",
             "minorgridcolor": "#C8D4E3",
             "startlinecolor": "#2a3f5f"
            },
            "type": "carpet"
           }
          ],
          "choropleth": [
           {
            "colorbar": {
             "outlinewidth": 0,
             "ticks": ""
            },
            "type": "choropleth"
           }
          ],
          "contour": [
           {
            "colorbar": {
             "outlinewidth": 0,
             "ticks": ""
            },
            "colorscale": [
             [
              0,
              "#0d0887"
             ],
             [
              0.1111111111111111,
              "#46039f"
             ],
             [
              0.2222222222222222,
              "#7201a8"
             ],
             [
              0.3333333333333333,
              "#9c179e"
             ],
             [
              0.4444444444444444,
              "#bd3786"
             ],
             [
              0.5555555555555556,
              "#d8576b"
             ],
             [
              0.6666666666666666,
              "#ed7953"
             ],
             [
              0.7777777777777778,
              "#fb9f3a"
             ],
             [
              0.8888888888888888,
              "#fdca26"
             ],
             [
              1,
              "#f0f921"
             ]
            ],
            "type": "contour"
           }
          ],
          "contourcarpet": [
           {
            "colorbar": {
             "outlinewidth": 0,
             "ticks": ""
            },
            "type": "contourcarpet"
           }
          ],
          "heatmap": [
           {
            "colorbar": {
             "outlinewidth": 0,
             "ticks": ""
            },
            "colorscale": [
             [
              0,
              "#0d0887"
             ],
             [
              0.1111111111111111,
              "#46039f"
             ],
             [
              0.2222222222222222,
              "#7201a8"
             ],
             [
              0.3333333333333333,
              "#9c179e"
             ],
             [
              0.4444444444444444,
              "#bd3786"
             ],
             [
              0.5555555555555556,
              "#d8576b"
             ],
             [
              0.6666666666666666,
              "#ed7953"
             ],
             [
              0.7777777777777778,
              "#fb9f3a"
             ],
             [
              0.8888888888888888,
              "#fdca26"
             ],
             [
              1,
              "#f0f921"
             ]
            ],
            "type": "heatmap"
           }
          ],
          "histogram": [
           {
            "marker": {
             "pattern": {
              "fillmode": "overlay",
              "size": 10,
              "solidity": 0.2
             }
            },
            "type": "histogram"
           }
          ],
          "histogram2d": [
           {
            "colorbar": {
             "outlinewidth": 0,
             "ticks": ""
            },
            "colorscale": [
             [
              0,
              "#0d0887"
             ],
             [
              0.1111111111111111,
              "#46039f"
             ],
             [
              0.2222222222222222,
              "#7201a8"
             ],
             [
              0.3333333333333333,
              "#9c179e"
             ],
             [
              0.4444444444444444,
              "#bd3786"
             ],
             [
              0.5555555555555556,
              "#d8576b"
             ],
             [
              0.6666666666666666,
              "#ed7953"
             ],
             [
              0.7777777777777778,
              "#fb9f3a"
             ],
             [
              0.8888888888888888,
              "#fdca26"
             ],
             [
              1,
              "#f0f921"
             ]
            ],
            "type": "histogram2d"
           }
          ],
          "histogram2dcontour": [
           {
            "colorbar": {
             "outlinewidth": 0,
             "ticks": ""
            },
            "colorscale": [
             [
              0,
              "#0d0887"
             ],
             [
              0.1111111111111111,
              "#46039f"
             ],
             [
              0.2222222222222222,
              "#7201a8"
             ],
             [
              0.3333333333333333,
              "#9c179e"
             ],
             [
              0.4444444444444444,
              "#bd3786"
             ],
             [
              0.5555555555555556,
              "#d8576b"
             ],
             [
              0.6666666666666666,
              "#ed7953"
             ],
             [
              0.7777777777777778,
              "#fb9f3a"
             ],
             [
              0.8888888888888888,
              "#fdca26"
             ],
             [
              1,
              "#f0f921"
             ]
            ],
            "type": "histogram2dcontour"
           }
          ],
          "mesh3d": [
           {
            "colorbar": {
             "outlinewidth": 0,
             "ticks": ""
            },
            "type": "mesh3d"
           }
          ],
          "parcoords": [
           {
            "line": {
             "colorbar": {
              "outlinewidth": 0,
              "ticks": ""
             }
            },
            "type": "parcoords"
           }
          ],
          "pie": [
           {
            "automargin": true,
            "type": "pie"
           }
          ],
          "scatter": [
           {
            "fillpattern": {
             "fillmode": "overlay",
             "size": 10,
             "solidity": 0.2
            },
            "type": "scatter"
           }
          ],
          "scatter3d": [
           {
            "line": {
             "colorbar": {
              "outlinewidth": 0,
              "ticks": ""
             }
            },
            "marker": {
             "colorbar": {
              "outlinewidth": 0,
              "ticks": ""
             }
            },
            "type": "scatter3d"
           }
          ],
          "scattercarpet": [
           {
            "marker": {
             "colorbar": {
              "outlinewidth": 0,
              "ticks": ""
             }
            },
            "type": "scattercarpet"
           }
          ],
          "scattergeo": [
           {
            "marker": {
             "colorbar": {
              "outlinewidth": 0,
              "ticks": ""
             }
            },
            "type": "scattergeo"
           }
          ],
          "scattergl": [
           {
            "marker": {
             "colorbar": {
              "outlinewidth": 0,
              "ticks": ""
             }
            },
            "type": "scattergl"
           }
          ],
          "scattermap": [
           {
            "marker": {
             "colorbar": {
              "outlinewidth": 0,
              "ticks": ""
             }
            },
            "type": "scattermap"
           }
          ],
          "scattermapbox": [
           {
            "marker": {
             "colorbar": {
              "outlinewidth": 0,
              "ticks": ""
             }
            },
            "type": "scattermapbox"
           }
          ],
          "scatterpolar": [
           {
            "marker": {
             "colorbar": {
              "outlinewidth": 0,
              "ticks": ""
             }
            },
            "type": "scatterpolar"
           }
          ],
          "scatterpolargl": [
           {
            "marker": {
             "colorbar": {
              "outlinewidth": 0,
              "ticks": ""
             }
            },
            "type": "scatterpolargl"
           }
          ],
          "scatterternary": [
           {
            "marker": {
             "colorbar": {
              "outlinewidth": 0,
              "ticks": ""
             }
            },
            "type": "scatterternary"
           }
          ],
          "surface": [
           {
            "colorbar": {
             "outlinewidth": 0,
             "ticks": ""
            },
            "colorscale": [
             [
              0,
              "#0d0887"
             ],
             [
              0.1111111111111111,
              "#46039f"
             ],
             [
              0.2222222222222222,
              "#7201a8"
             ],
             [
              0.3333333333333333,
              "#9c179e"
             ],
             [
              0.4444444444444444,
              "#bd3786"
             ],
             [
              0.5555555555555556,
              "#d8576b"
             ],
             [
              0.6666666666666666,
              "#ed7953"
             ],
             [
              0.7777777777777778,
              "#fb9f3a"
             ],
             [
              0.8888888888888888,
              "#fdca26"
             ],
             [
              1,
              "#f0f921"
             ]
            ],
            "type": "surface"
           }
          ],
          "table": [
           {
            "cells": {
             "fill": {
              "color": "#EBF0F8"
             },
             "line": {
              "color": "white"
             }
            },
            "header": {
             "fill": {
              "color": "#C8D4E3"
             },
             "line": {
              "color": "white"
             }
            },
            "type": "table"
           }
          ]
         },
         "layout": {
          "annotationdefaults": {
           "arrowcolor": "#2a3f5f",
           "arrowhead": 0,
           "arrowwidth": 1
          },
          "autotypenumbers": "strict",
          "coloraxis": {
           "colorbar": {
            "outlinewidth": 0,
            "ticks": ""
           }
          },
          "colorscale": {
           "diverging": [
            [
             0,
             "#8e0152"
            ],
            [
             0.1,
             "#c51b7d"
            ],
            [
             0.2,
             "#de77ae"
            ],
            [
             0.3,
             "#f1b6da"
            ],
            [
             0.4,
             "#fde0ef"
            ],
            [
             0.5,
             "#f7f7f7"
            ],
            [
             0.6,
             "#e6f5d0"
            ],
            [
             0.7,
             "#b8e186"
            ],
            [
             0.8,
             "#7fbc41"
            ],
            [
             0.9,
             "#4d9221"
            ],
            [
             1,
             "#276419"
            ]
           ],
           "sequential": [
            [
             0,
             "#0d0887"
            ],
            [
             0.1111111111111111,
             "#46039f"
            ],
            [
             0.2222222222222222,
             "#7201a8"
            ],
            [
             0.3333333333333333,
             "#9c179e"
            ],
            [
             0.4444444444444444,
             "#bd3786"
            ],
            [
             0.5555555555555556,
             "#d8576b"
            ],
            [
             0.6666666666666666,
             "#ed7953"
            ],
            [
             0.7777777777777778,
             "#fb9f3a"
            ],
            [
             0.8888888888888888,
             "#fdca26"
            ],
            [
             1,
             "#f0f921"
            ]
           ],
           "sequentialminus": [
            [
             0,
             "#0d0887"
            ],
            [
             0.1111111111111111,
             "#46039f"
            ],
            [
             0.2222222222222222,
             "#7201a8"
            ],
            [
             0.3333333333333333,
             "#9c179e"
            ],
            [
             0.4444444444444444,
             "#bd3786"
            ],
            [
             0.5555555555555556,
             "#d8576b"
            ],
            [
             0.6666666666666666,
             "#ed7953"
            ],
            [
             0.7777777777777778,
             "#fb9f3a"
            ],
            [
             0.8888888888888888,
             "#fdca26"
            ],
            [
             1,
             "#f0f921"
            ]
           ]
          },
          "colorway": [
           "#636efa",
           "#EF553B",
           "#00cc96",
           "#ab63fa",
           "#FFA15A",
           "#19d3f3",
           "#FF6692",
           "#B6E880",
           "#FF97FF",
           "#FECB52"
          ],
          "font": {
           "color": "#2a3f5f"
          },
          "geo": {
           "bgcolor": "white",
           "lakecolor": "white",
           "landcolor": "white",
           "showlakes": true,
           "showland": true,
           "subunitcolor": "#C8D4E3"
          },
          "hoverlabel": {
           "align": "left"
          },
          "hovermode": "closest",
          "mapbox": {
           "style": "light"
          },
          "paper_bgcolor": "white",
          "plot_bgcolor": "white",
          "polar": {
           "angularaxis": {
            "gridcolor": "#EBF0F8",
            "linecolor": "#EBF0F8",
            "ticks": ""
           },
           "bgcolor": "white",
           "radialaxis": {
            "gridcolor": "#EBF0F8",
            "linecolor": "#EBF0F8",
            "ticks": ""
           }
          },
          "scene": {
           "xaxis": {
            "backgroundcolor": "white",
            "gridcolor": "#DFE8F3",
            "gridwidth": 2,
            "linecolor": "#EBF0F8",
            "showbackground": true,
            "ticks": "",
            "zerolinecolor": "#EBF0F8"
           },
           "yaxis": {
            "backgroundcolor": "white",
            "gridcolor": "#DFE8F3",
            "gridwidth": 2,
            "linecolor": "#EBF0F8",
            "showbackground": true,
            "ticks": "",
            "zerolinecolor": "#EBF0F8"
           },
           "zaxis": {
            "backgroundcolor": "white",
            "gridcolor": "#DFE8F3",
            "gridwidth": 2,
            "linecolor": "#EBF0F8",
            "showbackground": true,
            "ticks": "",
            "zerolinecolor": "#EBF0F8"
           }
          },
          "shapedefaults": {
           "line": {
            "color": "#2a3f5f"
           }
          },
          "ternary": {
           "aaxis": {
            "gridcolor": "#DFE8F3",
            "linecolor": "#A2B1C6",
            "ticks": ""
           },
           "baxis": {
            "gridcolor": "#DFE8F3",
            "linecolor": "#A2B1C6",
            "ticks": ""
           },
           "bgcolor": "white",
           "caxis": {
            "gridcolor": "#DFE8F3",
            "linecolor": "#A2B1C6",
            "ticks": ""
           }
          },
          "title": {
           "x": 0.05
          },
          "xaxis": {
           "automargin": true,
           "gridcolor": "#EBF0F8",
           "linecolor": "#EBF0F8",
           "ticks": "",
           "title": {
            "standoff": 15
           },
           "zerolinecolor": "#EBF0F8",
           "zerolinewidth": 2
          },
          "yaxis": {
           "automargin": true,
           "gridcolor": "#EBF0F8",
           "linecolor": "#EBF0F8",
           "ticks": "",
           "title": {
            "standoff": 15
           },
           "zerolinecolor": "#EBF0F8",
           "zerolinewidth": 2
          }
         }
        },
        "title": {
         "text": "Convergence of Piglet with target T = 2"
        },
        "xaxis": {
         "title": {
          "text": "iteration"
         }
        },
        "yaxis": {
         "title": {
          "text": "probability"
         }
        }
       }
      }
     },
     "metadata": {},
     "output_type": "display_data"
    }
   ],
   "source": [
    "fig_convergence = plot_piglet_convergence(result_piglet)\n",
    "fig_convergence.show()"
   ]
  }
 ],
 "metadata": {
  "kernelspec": {
   "display_name": "pyenv_pig",
   "language": "python",
   "name": "python3"
  },
  "language_info": {
   "codemirror_mode": {
    "name": "ipython",
    "version": 3
   },
   "file_extension": ".py",
   "mimetype": "text/x-python",
   "name": "python",
   "nbconvert_exporter": "python",
   "pygments_lexer": "ipython3",
   "version": "3.12.10"
  }
 },
 "nbformat": 4,
 "nbformat_minor": 5
}
