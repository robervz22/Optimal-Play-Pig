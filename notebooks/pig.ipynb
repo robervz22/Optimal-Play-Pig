{
 "cells": [
  {
   "cell_type": "markdown",
   "id": "b0022fe9",
   "metadata": {},
   "source": [
    "# Pig"
   ]
  },
  {
   "cell_type": "markdown",
   "id": "8505d1f7",
   "metadata": {},
   "source": [
    "This notebook has the intention to reproduce the results regarding the **Pig** section in the paper [*Optimal Play of the Dice Game Pig*](https://cupola.gettysburg.edu/csfac/4/).\n",
    "\n",
    "We are going use the  *value iteration*  algorithm suggested in the article. We will do a slight modification of the class `Piglet`.\n",
    "\n",
    "Our implementation for a general target `T` is encapsulated in the `Pig` class, its source code is `pig.py` in the `source` directory."
   ]
  },
  {
   "cell_type": "code",
   "execution_count": 5,
   "id": "e6b27133",
   "metadata": {},
   "outputs": [],
   "source": [
    "import sys\n",
    "sys.path.append('../source')\n",
    "import pig\n",
    "from pig import Pig"
   ]
  },
  {
   "cell_type": "markdown",
   "id": "86a3afff",
   "metadata": {},
   "source": [
    "We obtain the optimal value functions for target $T=2$. "
   ]
  },
  {
   "cell_type": "code",
   "execution_count": 6,
   "id": "56dececb",
   "metadata": {},
   "outputs": [
    {
     "name": "stdout",
     "output_type": "stream",
     "text": [
      "Optimal Policy:\n",
      "(1, 1, 0): roll\n",
      "(0, 1, 0): roll\n",
      "(0, 0, 0): roll\n",
      "(1, 0, 0): roll\n",
      "(0, 0, 1): roll\n",
      "(0, 1, 1): roll\n",
      "\n",
      "\n",
      "Optimal Values:\n",
      "(1, 1, 0): 0.8571429421963116\n",
      "(0, 1, 0): 0.8571429421963116\n",
      "(0, 0, 0): 0.8571429421963116\n",
      "(1, 0, 0): 0.8571429421963116\n",
      "(0, 0, 1): 0.8571429421963116\n",
      "(0, 1, 1): 0.8571429421963116\n"
     ]
    }
   ],
   "source": [
    "result_pig = Pig(T=2)\n",
    "result_pig.value_iteration()\n",
    "result_pig.print_policy()\n",
    "print(\"\\n\")\n",
    "result_pig.print_value()"
   ]
  }
 ],
 "metadata": {
  "kernelspec": {
   "display_name": "base",
   "language": "python",
   "name": "python3"
  },
  "language_info": {
   "codemirror_mode": {
    "name": "ipython",
    "version": 3
   },
   "file_extension": ".py",
   "mimetype": "text/x-python",
   "name": "python",
   "nbconvert_exporter": "python",
   "pygments_lexer": "ipython3",
   "version": "3.11.4"
  }
 },
 "nbformat": 4,
 "nbformat_minor": 5
}
