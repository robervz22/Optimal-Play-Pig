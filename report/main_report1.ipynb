version https://git-lfs.github.com/spec/v1
oid sha256:c48ce154774a82576eb0c9909245342d831ebcabf26f9c37a11ed0a22cb7ed31
size 18279
