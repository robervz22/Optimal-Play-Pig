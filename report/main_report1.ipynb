version https://git-lfs.github.com/spec/v1
oid sha256:a0f2f8019f3433b46c3c7401ba67c4a0425ce4be37833f91d7b96541b17d731d
size 17260