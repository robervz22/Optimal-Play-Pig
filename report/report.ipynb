version https://git-lfs.github.com/spec/v1
oid sha256:7a6ed852d35cac63ca987498122d93ecfd360db49caeb2d794e93c47d0f6ad51
size 494074
